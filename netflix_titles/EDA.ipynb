{
 "cells": [
  {
   "cell_type": "code",
   "execution_count": 2,
   "metadata": {},
   "outputs": [],
   "source": [
    "import pandas as pd\n",
    "\n",
    "df=pd.read_csv(\"netflix_titles.csv\")\n",
    "#print(df)\n"
   ]
  },
  {
   "cell_type": "code",
   "execution_count": 3,
   "metadata": {},
   "outputs": [
    {
     "name": "stdout",
     "output_type": "stream",
     "text": [
      "(6234, 12)\n",
      "Index(['show_id', 'type', 'title', 'director', 'cast', 'country', 'date_added',\n",
      "       'release_year', 'rating', 'duration', 'listed_in', 'description'],\n",
      "      dtype='object')\n",
      "show_id :\n",
      " number of of unique values :  6234 \n",
      "\n",
      "type :\n",
      " number of of unique values :  2 \n",
      "\n",
      "title :\n",
      " number of of unique values :  6172 \n",
      "\n",
      "director :\n",
      " number of of unique values :  3301 \n",
      "\n",
      "cast :\n",
      " number of of unique values :  5469 \n",
      "\n",
      "country :\n",
      " number of of unique values :  554 \n",
      "\n",
      "date_added :\n",
      " number of of unique values :  1524 \n",
      "\n",
      "release_year :\n",
      " number of of unique values :  72 \n",
      "\n",
      "rating :\n",
      " number of of unique values :  14 \n",
      "\n",
      "duration :\n",
      " number of of unique values :  201 \n",
      "\n",
      "listed_in :\n",
      " number of of unique values :  461 \n",
      "\n",
      "description :\n",
      " number of of unique values :  6226 \n",
      "\n",
      "head\n",
      "     show_id     type                                    title  \\\n",
      "0  81145628    Movie  Norm of the North: King Sized Adventure   \n",
      "1  80117401    Movie               Jandino: Whatever it Takes   \n",
      "2  70234439  TV Show                       Transformers Prime   \n",
      "3  80058654  TV Show         Transformers: Robots in Disguise   \n",
      "4  80125979    Movie                             #realityhigh   \n",
      "\n",
      "                   director  \\\n",
      "0  Richard Finn, Tim Maltby   \n",
      "1                       NaN   \n",
      "2                       NaN   \n",
      "3                       NaN   \n",
      "4          Fernando Lebrija   \n",
      "\n",
      "                                                cast  \\\n",
      "0  Alan Marriott, Andrew Toth, Brian Dobson, Cole...   \n",
      "1                                   Jandino Asporaat   \n",
      "2  Peter Cullen, Sumalee Montano, Frank Welker, J...   \n",
      "3  Will Friedle, Darren Criss, Constance Zimmer, ...   \n",
      "4  Nesta Cooper, Kate Walsh, John Michael Higgins...   \n",
      "\n",
      "                                    country         date_added  release_year  \\\n",
      "0  United States, India, South Korea, China  September 9, 2019          2019   \n",
      "1                            United Kingdom  September 9, 2016          2016   \n",
      "2                             United States  September 8, 2018          2013   \n",
      "3                             United States  September 8, 2018          2016   \n",
      "4                             United States  September 8, 2017          2017   \n",
      "\n",
      "     rating  duration                           listed_in  \\\n",
      "0     TV-PG    90 min  Children & Family Movies, Comedies   \n",
      "1     TV-MA    94 min                     Stand-Up Comedy   \n",
      "2  TV-Y7-FV  1 Season                            Kids' TV   \n",
      "3     TV-Y7  1 Season                            Kids' TV   \n",
      "4     TV-14    99 min                            Comedies   \n",
      "\n",
      "                                         description  \n",
      "0  Before planning an awesome wedding for his gra...  \n",
      "1  Jandino Asporaat riffs on the challenges of ra...  \n",
      "2  With the help of three human allies, the Autob...  \n",
      "3  When a prison ship crash unleashes hundreds of...  \n",
      "4  When nerdy high schooler Dani finally attracts...  \n",
      "show_id \n",
      "\n",
      "80218111    1\n",
      "81010662    1\n",
      "80188051    1\n",
      "70077076    1\n",
      "80192149    1\n",
      "           ..\n",
      "80993613    1\n",
      "80176929    1\n",
      "81001809    1\n",
      "80162131    1\n",
      "80992499    1\n",
      "Name: show_id, Length: 6234, dtype: int64\n",
      "type \n",
      "\n",
      "Movie      4265\n",
      "TV Show    1969\n",
      "Name: type, dtype: int64\n",
      "title \n",
      "\n",
      "The Silence                   3\n",
      "Love                          3\n",
      "Oh My Ghost                   3\n",
      "Tunnel                        3\n",
      "Limitless                     3\n",
      "                             ..\n",
      "Rise of the Zombie            1\n",
      "Liv and Maddie                1\n",
      "Fracture                      1\n",
      "Daddy Issues                  1\n",
      "Badalte Rishton Ki Dastaan    1\n",
      "Name: title, Length: 6172, dtype: int64\n",
      "director \n",
      "\n",
      "Raúl Campos, Jan Suter    18\n",
      "Marcus Raboy              14\n",
      "Jay Karas                 13\n",
      "Jay Chapman               12\n",
      "Steven Spielberg           9\n",
      "                          ..\n",
      "Lucy van Beek              1\n",
      "Habib Faisal               1\n",
      "Richard Sears              1\n",
      "Albert Sharpe              1\n",
      "Houda Benyamina            1\n",
      "Name: director, Length: 3301, dtype: int64\n",
      "cast \n",
      "\n",
      "David Attenborough                                                                                                                        18\n",
      "Samuel West                                                                                                                               10\n",
      "Jeff Dunham                                                                                                                                7\n",
      "Craig Sechler                                                                                                                              6\n",
      "Bill Burr                                                                                                                                  5\n",
      "                                                                                                                                          ..\n",
      "A.R. Rahman                                                                                                                                1\n",
      "Hans Chung, Mini Tsai, Albee Huang, David Chiu, Johnny Yang, Kuan Lin, Ray Yang, Liu Yu Shan                                               1\n",
      "Tony Goldwyn, Minnie Driver, Glenn Close, Brian Blessed, Nigel Hawthorne, Rosie O'Donnell, Lance Henriksen, Wayne Knight, Alex D. Linz     1\n",
      "Lorinska Merrington, Jane Scandizzo, Rachel Watts, Maria DiGeronimo                                                                        1\n",
      "Shahid Kapoor, Genelia D'Souza, Mohnish Bahl, Satish Shah, Parikshat Sahni, Vikas Bhalla, Kurush Deboo, Zain Khan                          1\n",
      "Name: cast, Length: 5469, dtype: int64\n",
      "country \n",
      "\n",
      "United States                            2032\n",
      "India                                     777\n",
      "United Kingdom                            348\n",
      "Japan                                     176\n",
      "Canada                                    141\n",
      "                                         ... \n",
      "United States, Spain, Germany               1\n",
      "United States, Denmark                      1\n",
      "United States, Greece, United Kingdom       1\n",
      "Mexico, Finland                             1\n",
      "Denmark, China                              1\n",
      "Name: country, Length: 554, dtype: int64\n",
      "date_added \n",
      "\n",
      "January 1, 2020       122\n",
      "November 1, 2019       94\n",
      "March 1, 2018          78\n",
      "December 31, 2019      74\n",
      "October 1, 2018        72\n",
      "                     ... \n",
      " April 14, 2017         1\n",
      "September 24, 2018      1\n",
      " May 26, 2016           1\n",
      "July 29, 2018           1\n",
      " July 11, 2018          1\n",
      "Name: date_added, Length: 1524, dtype: int64\n",
      "release_year \n",
      "\n",
      "2018    1063\n",
      "2017     959\n",
      "2019     843\n",
      "2016     830\n",
      "2015     517\n",
      "        ... \n",
      "1959       1\n",
      "1963       1\n",
      "1964       1\n",
      "1956       1\n",
      "1925       1\n",
      "Name: release_year, Length: 72, dtype: int64\n",
      "rating \n",
      "\n",
      "TV-MA       2027\n",
      "TV-14       1698\n",
      "TV-PG        701\n",
      "R            508\n",
      "PG-13        286\n",
      "NR           218\n",
      "PG           184\n",
      "TV-Y7        169\n",
      "TV-G         149\n",
      "TV-Y         143\n",
      "TV-Y7-FV      95\n",
      "G             37\n",
      "UR             7\n",
      "NC-17          2\n",
      "Name: rating, dtype: int64\n",
      "duration \n",
      "\n",
      "1 Season      1321\n",
      "2 Seasons      304\n",
      "3 Seasons      158\n",
      "90 min         111\n",
      "91 min         104\n",
      "              ... \n",
      "14 Seasons       1\n",
      "181 min          1\n",
      "189 min          1\n",
      "191 min          1\n",
      "193 min          1\n",
      "Name: duration, Length: 201, dtype: int64\n",
      "listed_in \n",
      "\n",
      "Documentaries                                         299\n",
      "Stand-Up Comedy                                       273\n",
      "Dramas, International Movies                          248\n",
      "Dramas, Independent Movies, International Movies      186\n",
      "Comedies, Dramas, International Movies                174\n",
      "                                                     ... \n",
      "Reality TV, Spanish-Language TV Shows                   1\n",
      "Reality TV, TV Horror, TV Thrillers                     1\n",
      "TV Dramas, TV Sci-Fi & Fantasy, Teen TV Shows           1\n",
      "Anime Features, Music & Musicals, Sci-Fi & Fantasy      1\n",
      "TV Comedies, TV Horror, TV Thrillers                    1\n",
      "Name: listed_in, Length: 461, dtype: int64\n",
      "description \n",
      "\n",
      "A surly septuagenarian gets another chance at her 20s after having her photo snapped at a studio that magically takes 50 years off her life.                3\n",
      "An affable, newly appointed college warden proves to be no ordinary man when an old enemy resurfaces and exposes his complicated, violent past.             2\n",
      "A young Han Solo tries to settle an old score with the help of his new buddy Chewbacca, a crew of space smugglers and a cunning old friend.                 2\n",
      "As a series of murders hit close to home, a video game designer with post-traumatic stress must confront her demons, or risk becoming their victim.         2\n",
      "An aspiring musician battles age-old caste divides to be able to learn the art of a classical instrument from a traditionalist, veteran percussionist.      2\n",
      "                                                                                                                                                           ..\n",
      "A determined dog comes to the rescue and helps heal a broken family when a young boy and his sister stumble into some serious danger.                       1\n",
      "Nothing is sacred in this show from Australian comic Jim Jefferies, whether it’s the mother of his child, auditioning disabled actors, or gun control.      1\n",
      "No-nonsense comic Bill Burr takes the stage in Nashville and riffs on fast food, overpopulation, dictators and gorilla sign language.                       1\n",
      "Defining moments in Andrew Cunanan's life, starting in childhood, lead up to a 1997 murder spree that kills five, including fashion icon Gianni Versace.    1\n",
      "After serving a six-year prison sentence, an ex-cop tries to rebuild his life in his hometown, but gets caught up in the fallout from his past.             1\n",
      "Name: description, Length: 6226, dtype: int64\n"
     ]
    }
   ],
   "source": [
    "print(df.shape)\n",
    "print(df.columns)\n",
    "\n",
    "for col in df.columns:\n",
    "    print(col,\":\\n\",\"number of of unique values : \",df[col].nunique(),\"\\n\")\n",
    "\n",
    "print(\"head\\n\",df.head())\n",
    "for col in df.columns:\n",
    "    print(col,\"\\n\")\n",
    "    print(df[col].value_counts())"
   ]
  },
  {
   "cell_type": "code",
   "execution_count": 13,
   "metadata": {},
   "outputs": [
    {
     "name": "stdout",
     "output_type": "stream",
     "text": [
      "       show_id     type title                        director  \\\n",
      "19    80057969    Movie  Love                      Gaspar Noé   \n",
      "1066  81033200    Movie  Love  Kabir Bhatia, Titien Wattimena   \n",
      "5825  80026506  TV Show  Love                             NaN   \n",
      "\n",
      "                                                   cast          country  \\\n",
      "19    Karl Glusman, Klara Kristin, Aomi Muyock, Ugo ...  France, Belgium   \n",
      "1066  Acha Septriasa, Darius Sinathrya, Fauzi Baadil...        Indonesia   \n",
      "5825       Gillian Jacobs, Paul Rust, Claudia O'Doherty    United States   \n",
      "\n",
      "             date_added  release_year rating   duration  \\\n",
      "19    September 8, 2017          2015     NR    135 min   \n",
      "1066  November 30, 2018          2008  TV-PG    120 min   \n",
      "5825      March 9, 2018          2018  TV-MA  3 Seasons   \n",
      "\n",
      "                                          listed_in  \\\n",
      "19          Cult Movies, Dramas, Independent Movies   \n",
      "1066  Dramas, International Movies, Romantic Movies   \n",
      "5825      Romantic TV Shows, TV Comedies, TV Dramas   \n",
      "\n",
      "                                            description  \n",
      "19    A man in an unsatisfying marriage recalls the ...  \n",
      "1066  In Jakarta, five couples of varying ages and b...  \n",
      "5825  Rebellious Mickey and good-natured Gus navigat...  \n",
      "       show_id   type    title               director  \\\n",
      "48    81016045  Movie  One Day  Banjong Pisanthanakun   \n",
      "4473  70184051  Movie  One Day          Lone Scherfig   \n",
      "\n",
      "                                                   cast  \\\n",
      "48    Chantavit Dhanasevi, Nittha Jirayungyurn, Thee...   \n",
      "4473  Rafe Spall, Jim Sturgess, Ken Stott, Jodie Whi...   \n",
      "\n",
      "                            country         date_added  release_year rating  \\\n",
      "48                         Thailand  September 5, 2018          2016  TV-PG   \n",
      "4473  United States, United Kingdom  December 16, 2018          2011  PG-13   \n",
      "\n",
      "     duration                                      listed_in  \\\n",
      "48    135 min  Dramas, International Movies, Romantic Movies   \n",
      "4473  107 min                        Dramas, Romantic Movies   \n",
      "\n",
      "                                            description  \n",
      "48    When his colleague (and crush) temporarily los...  \n",
      "4473  After a brief college romance, Emma and Dexter...  \n"
     ]
    }
   ],
   "source": [
    "#print(df.groupby('title').filter(lambda g: len(g) > 1))\n",
    "print(df[df['title']=='Love'])\n",
    "print(df[df['title']=='One Day'])\n",
    "#different movies with same title"
   ]
  },
  {
   "cell_type": "code",
   "execution_count": 19,
   "metadata": {},
   "outputs": [
    {
     "name": "stdout",
     "output_type": "stream",
     "text": [
      "(6234, 12)\n"
     ]
    }
   ],
   "source": [
    "df.drop_duplicates(keep='first',inplace=True)\n",
    "print(df.shape)\n",
    "#no duplicates"
   ]
  },
  {
   "cell_type": "code",
   "execution_count": 32,
   "metadata": {},
   "outputs": [
    {
     "data": {
      "application/vnd.plotly.v1+json": {
       "config": {
        "plotlyServerURL": "https://plot.ly"
       },
       "data": [
        {
         "marker": {
          "color": "#a678de"
         },
         "name": "TV Shows",
         "type": "scatter",
         "x": [
          1925,
          1946,
          1963,
          1967,
          1968,
          1972,
          1974,
          1977,
          1979,
          1981,
          1985,
          1986,
          1988,
          1989,
          1990,
          1991,
          1992,
          1993,
          1994,
          1995,
          1996,
          1997,
          1998,
          1999,
          2000,
          2001,
          2002,
          2003,
          2004,
          2005,
          2006,
          2007,
          2008,
          2009,
          2010,
          2011,
          2012,
          2013,
          2014,
          2015,
          2016,
          2017,
          2018,
          2019,
          2020
         ],
         "y": [
          0.05078720162519045,
          0.05078720162519045,
          0.05078720162519045,
          0.05078720162519045,
          0.05078720162519045,
          0.05078720162519045,
          0.05078720162519045,
          0.05078720162519045,
          0.05078720162519045,
          0.05078720162519045,
          0.05078720162519045,
          0.1015744032503809,
          0.1015744032503809,
          0.05078720162519045,
          0.15236160487557135,
          0.05078720162519045,
          0.1015744032503809,
          0.15236160487557135,
          0.05078720162519045,
          0.1015744032503809,
          0.15236160487557135,
          0.2031488065007618,
          0.15236160487557135,
          0.2031488065007618,
          0.15236160487557135,
          0.2031488065007618,
          0.15236160487557135,
          0.4062976130015236,
          0.4570848146267141,
          0.6094464195022854,
          0.4570848146267141,
          0.5586592178770949,
          1.015744032503809,
          1.7267648552564754,
          1.9299136617572372,
          1.8283392585068563,
          2.945657694261046,
          3.047232097511427,
          3.809040121889284,
          7.82122905027933,
          12.036566785170137,
          14.068054850177756,
          21.17826307770442,
          22.49873031995937,
          0.9649568308786186
         ]
        },
        {
         "marker": {
          "color": "#6ad49b"
         },
         "name": "Movies",
         "type": "scatter",
         "x": [
          1942,
          1943,
          1944,
          1945,
          1946,
          1947,
          1954,
          1955,
          1956,
          1958,
          1959,
          1960,
          1962,
          1964,
          1965,
          1966,
          1967,
          1968,
          1969,
          1970,
          1971,
          1972,
          1973,
          1974,
          1975,
          1976,
          1977,
          1978,
          1979,
          1980,
          1981,
          1982,
          1983,
          1984,
          1985,
          1986,
          1987,
          1988,
          1989,
          1990,
          1991,
          1992,
          1993,
          1994,
          1995,
          1996,
          1997,
          1998,
          1999,
          2000,
          2001,
          2002,
          2003,
          2004,
          2005,
          2006,
          2007,
          2008,
          2009,
          2010,
          2011,
          2012,
          2013,
          2014,
          2015,
          2016,
          2017,
          2018,
          2019,
          2020
         ],
         "y": [
          0.04689331770222743,
          0.07033997655334115,
          0.07033997655334115,
          0.07033997655334115,
          0.04689331770222743,
          0.023446658851113716,
          0.023446658851113716,
          0.023446658851113716,
          0.023446658851113716,
          0.04689331770222743,
          0.023446658851113716,
          0.09378663540445487,
          0.07033997655334115,
          0.023446658851113716,
          0.04689331770222743,
          0.023446658851113716,
          0.04689331770222743,
          0.07033997655334115,
          0.04689331770222743,
          0.023446658851113716,
          0.07033997655334115,
          0.07033997655334115,
          0.21101992966002345,
          0.16412661195779601,
          0.11723329425556858,
          0.16412661195779601,
          0.09378663540445487,
          0.16412661195779601,
          0.1406799531066823,
          0.16412661195779601,
          0.1406799531066823,
          0.25791324736225085,
          0.21101992966002345,
          0.18757327080890973,
          0.16412661195779601,
          0.18757327080890973,
          0.11723329425556858,
          0.25791324736225085,
          0.23446658851113716,
          0.2813599062133646,
          0.32825322391559203,
          0.32825322391559203,
          0.37514654161781946,
          0.3048065650644783,
          0.3516998827667057,
          0.32825322391559203,
          0.6330597889800703,
          0.5392731535756154,
          0.39859320046893315,
          0.6565064478311841,
          0.7033997655334114,
          0.82063305978898,
          0.82063305978898,
          0.9378663540445487,
          1.1957796014067996,
          1.3833528722157094,
          1.4067995310668229,
          2.0398593200468933,
          2.0398593200468933,
          2.6025791324736227,
          2.3446658851113718,
          2.9308323563892147,
          4.150058616647128,
          4.9941383352872215,
          8.51113716295428,
          13.903868698710435,
          15.990621336459554,
          15.14654161781946,
          9.378663540445487,
          0.1406799531066823
         ]
        }
       ],
       "layout": {
        "legend": {
         "orientation": "h",
         "x": 0.1,
         "y": 1.1
        },
        "template": {
         "data": {
          "bar": [
           {
            "error_x": {
             "color": "#2a3f5f"
            },
            "error_y": {
             "color": "#2a3f5f"
            },
            "marker": {
             "line": {
              "color": "#E5ECF6",
              "width": 0.5
             }
            },
            "type": "bar"
           }
          ],
          "barpolar": [
           {
            "marker": {
             "line": {
              "color": "#E5ECF6",
              "width": 0.5
             }
            },
            "type": "barpolar"
           }
          ],
          "carpet": [
           {
            "aaxis": {
             "endlinecolor": "#2a3f5f",
             "gridcolor": "white",
             "linecolor": "white",
             "minorgridcolor": "white",
             "startlinecolor": "#2a3f5f"
            },
            "baxis": {
             "endlinecolor": "#2a3f5f",
             "gridcolor": "white",
             "linecolor": "white",
             "minorgridcolor": "white",
             "startlinecolor": "#2a3f5f"
            },
            "type": "carpet"
           }
          ],
          "choropleth": [
           {
            "colorbar": {
             "outlinewidth": 0,
             "ticks": ""
            },
            "type": "choropleth"
           }
          ],
          "contour": [
           {
            "colorbar": {
             "outlinewidth": 0,
             "ticks": ""
            },
            "colorscale": [
             [
              0,
              "#0d0887"
             ],
             [
              0.1111111111111111,
              "#46039f"
             ],
             [
              0.2222222222222222,
              "#7201a8"
             ],
             [
              0.3333333333333333,
              "#9c179e"
             ],
             [
              0.4444444444444444,
              "#bd3786"
             ],
             [
              0.5555555555555556,
              "#d8576b"
             ],
             [
              0.6666666666666666,
              "#ed7953"
             ],
             [
              0.7777777777777778,
              "#fb9f3a"
             ],
             [
              0.8888888888888888,
              "#fdca26"
             ],
             [
              1,
              "#f0f921"
             ]
            ],
            "type": "contour"
           }
          ],
          "contourcarpet": [
           {
            "colorbar": {
             "outlinewidth": 0,
             "ticks": ""
            },
            "type": "contourcarpet"
           }
          ],
          "heatmap": [
           {
            "colorbar": {
             "outlinewidth": 0,
             "ticks": ""
            },
            "colorscale": [
             [
              0,
              "#0d0887"
             ],
             [
              0.1111111111111111,
              "#46039f"
             ],
             [
              0.2222222222222222,
              "#7201a8"
             ],
             [
              0.3333333333333333,
              "#9c179e"
             ],
             [
              0.4444444444444444,
              "#bd3786"
             ],
             [
              0.5555555555555556,
              "#d8576b"
             ],
             [
              0.6666666666666666,
              "#ed7953"
             ],
             [
              0.7777777777777778,
              "#fb9f3a"
             ],
             [
              0.8888888888888888,
              "#fdca26"
             ],
             [
              1,
              "#f0f921"
             ]
            ],
            "type": "heatmap"
           }
          ],
          "heatmapgl": [
           {
            "colorbar": {
             "outlinewidth": 0,
             "ticks": ""
            },
            "colorscale": [
             [
              0,
              "#0d0887"
             ],
             [
              0.1111111111111111,
              "#46039f"
             ],
             [
              0.2222222222222222,
              "#7201a8"
             ],
             [
              0.3333333333333333,
              "#9c179e"
             ],
             [
              0.4444444444444444,
              "#bd3786"
             ],
             [
              0.5555555555555556,
              "#d8576b"
             ],
             [
              0.6666666666666666,
              "#ed7953"
             ],
             [
              0.7777777777777778,
              "#fb9f3a"
             ],
             [
              0.8888888888888888,
              "#fdca26"
             ],
             [
              1,
              "#f0f921"
             ]
            ],
            "type": "heatmapgl"
           }
          ],
          "histogram": [
           {
            "marker": {
             "colorbar": {
              "outlinewidth": 0,
              "ticks": ""
             }
            },
            "type": "histogram"
           }
          ],
          "histogram2d": [
           {
            "colorbar": {
             "outlinewidth": 0,
             "ticks": ""
            },
            "colorscale": [
             [
              0,
              "#0d0887"
             ],
             [
              0.1111111111111111,
              "#46039f"
             ],
             [
              0.2222222222222222,
              "#7201a8"
             ],
             [
              0.3333333333333333,
              "#9c179e"
             ],
             [
              0.4444444444444444,
              "#bd3786"
             ],
             [
              0.5555555555555556,
              "#d8576b"
             ],
             [
              0.6666666666666666,
              "#ed7953"
             ],
             [
              0.7777777777777778,
              "#fb9f3a"
             ],
             [
              0.8888888888888888,
              "#fdca26"
             ],
             [
              1,
              "#f0f921"
             ]
            ],
            "type": "histogram2d"
           }
          ],
          "histogram2dcontour": [
           {
            "colorbar": {
             "outlinewidth": 0,
             "ticks": ""
            },
            "colorscale": [
             [
              0,
              "#0d0887"
             ],
             [
              0.1111111111111111,
              "#46039f"
             ],
             [
              0.2222222222222222,
              "#7201a8"
             ],
             [
              0.3333333333333333,
              "#9c179e"
             ],
             [
              0.4444444444444444,
              "#bd3786"
             ],
             [
              0.5555555555555556,
              "#d8576b"
             ],
             [
              0.6666666666666666,
              "#ed7953"
             ],
             [
              0.7777777777777778,
              "#fb9f3a"
             ],
             [
              0.8888888888888888,
              "#fdca26"
             ],
             [
              1,
              "#f0f921"
             ]
            ],
            "type": "histogram2dcontour"
           }
          ],
          "mesh3d": [
           {
            "colorbar": {
             "outlinewidth": 0,
             "ticks": ""
            },
            "type": "mesh3d"
           }
          ],
          "parcoords": [
           {
            "line": {
             "colorbar": {
              "outlinewidth": 0,
              "ticks": ""
             }
            },
            "type": "parcoords"
           }
          ],
          "pie": [
           {
            "automargin": true,
            "type": "pie"
           }
          ],
          "scatter": [
           {
            "marker": {
             "colorbar": {
              "outlinewidth": 0,
              "ticks": ""
             }
            },
            "type": "scatter"
           }
          ],
          "scatter3d": [
           {
            "line": {
             "colorbar": {
              "outlinewidth": 0,
              "ticks": ""
             }
            },
            "marker": {
             "colorbar": {
              "outlinewidth": 0,
              "ticks": ""
             }
            },
            "type": "scatter3d"
           }
          ],
          "scattercarpet": [
           {
            "marker": {
             "colorbar": {
              "outlinewidth": 0,
              "ticks": ""
             }
            },
            "type": "scattercarpet"
           }
          ],
          "scattergeo": [
           {
            "marker": {
             "colorbar": {
              "outlinewidth": 0,
              "ticks": ""
             }
            },
            "type": "scattergeo"
           }
          ],
          "scattergl": [
           {
            "marker": {
             "colorbar": {
              "outlinewidth": 0,
              "ticks": ""
             }
            },
            "type": "scattergl"
           }
          ],
          "scattermapbox": [
           {
            "marker": {
             "colorbar": {
              "outlinewidth": 0,
              "ticks": ""
             }
            },
            "type": "scattermapbox"
           }
          ],
          "scatterpolar": [
           {
            "marker": {
             "colorbar": {
              "outlinewidth": 0,
              "ticks": ""
             }
            },
            "type": "scatterpolar"
           }
          ],
          "scatterpolargl": [
           {
            "marker": {
             "colorbar": {
              "outlinewidth": 0,
              "ticks": ""
             }
            },
            "type": "scatterpolargl"
           }
          ],
          "scatterternary": [
           {
            "marker": {
             "colorbar": {
              "outlinewidth": 0,
              "ticks": ""
             }
            },
            "type": "scatterternary"
           }
          ],
          "surface": [
           {
            "colorbar": {
             "outlinewidth": 0,
             "ticks": ""
            },
            "colorscale": [
             [
              0,
              "#0d0887"
             ],
             [
              0.1111111111111111,
              "#46039f"
             ],
             [
              0.2222222222222222,
              "#7201a8"
             ],
             [
              0.3333333333333333,
              "#9c179e"
             ],
             [
              0.4444444444444444,
              "#bd3786"
             ],
             [
              0.5555555555555556,
              "#d8576b"
             ],
             [
              0.6666666666666666,
              "#ed7953"
             ],
             [
              0.7777777777777778,
              "#fb9f3a"
             ],
             [
              0.8888888888888888,
              "#fdca26"
             ],
             [
              1,
              "#f0f921"
             ]
            ],
            "type": "surface"
           }
          ],
          "table": [
           {
            "cells": {
             "fill": {
              "color": "#EBF0F8"
             },
             "line": {
              "color": "white"
             }
            },
            "header": {
             "fill": {
              "color": "#C8D4E3"
             },
             "line": {
              "color": "white"
             }
            },
            "type": "table"
           }
          ]
         },
         "layout": {
          "annotationdefaults": {
           "arrowcolor": "#2a3f5f",
           "arrowhead": 0,
           "arrowwidth": 1
          },
          "coloraxis": {
           "colorbar": {
            "outlinewidth": 0,
            "ticks": ""
           }
          },
          "colorscale": {
           "diverging": [
            [
             0,
             "#8e0152"
            ],
            [
             0.1,
             "#c51b7d"
            ],
            [
             0.2,
             "#de77ae"
            ],
            [
             0.3,
             "#f1b6da"
            ],
            [
             0.4,
             "#fde0ef"
            ],
            [
             0.5,
             "#f7f7f7"
            ],
            [
             0.6,
             "#e6f5d0"
            ],
            [
             0.7,
             "#b8e186"
            ],
            [
             0.8,
             "#7fbc41"
            ],
            [
             0.9,
             "#4d9221"
            ],
            [
             1,
             "#276419"
            ]
           ],
           "sequential": [
            [
             0,
             "#0d0887"
            ],
            [
             0.1111111111111111,
             "#46039f"
            ],
            [
             0.2222222222222222,
             "#7201a8"
            ],
            [
             0.3333333333333333,
             "#9c179e"
            ],
            [
             0.4444444444444444,
             "#bd3786"
            ],
            [
             0.5555555555555556,
             "#d8576b"
            ],
            [
             0.6666666666666666,
             "#ed7953"
            ],
            [
             0.7777777777777778,
             "#fb9f3a"
            ],
            [
             0.8888888888888888,
             "#fdca26"
            ],
            [
             1,
             "#f0f921"
            ]
           ],
           "sequentialminus": [
            [
             0,
             "#0d0887"
            ],
            [
             0.1111111111111111,
             "#46039f"
            ],
            [
             0.2222222222222222,
             "#7201a8"
            ],
            [
             0.3333333333333333,
             "#9c179e"
            ],
            [
             0.4444444444444444,
             "#bd3786"
            ],
            [
             0.5555555555555556,
             "#d8576b"
            ],
            [
             0.6666666666666666,
             "#ed7953"
            ],
            [
             0.7777777777777778,
             "#fb9f3a"
            ],
            [
             0.8888888888888888,
             "#fdca26"
            ],
            [
             1,
             "#f0f921"
            ]
           ]
          },
          "colorway": [
           "#636efa",
           "#EF553B",
           "#00cc96",
           "#ab63fa",
           "#FFA15A",
           "#19d3f3",
           "#FF6692",
           "#B6E880",
           "#FF97FF",
           "#FECB52"
          ],
          "font": {
           "color": "#2a3f5f"
          },
          "geo": {
           "bgcolor": "white",
           "lakecolor": "white",
           "landcolor": "#E5ECF6",
           "showlakes": true,
           "showland": true,
           "subunitcolor": "white"
          },
          "hoverlabel": {
           "align": "left"
          },
          "hovermode": "closest",
          "mapbox": {
           "style": "light"
          },
          "paper_bgcolor": "white",
          "plot_bgcolor": "#E5ECF6",
          "polar": {
           "angularaxis": {
            "gridcolor": "white",
            "linecolor": "white",
            "ticks": ""
           },
           "bgcolor": "#E5ECF6",
           "radialaxis": {
            "gridcolor": "white",
            "linecolor": "white",
            "ticks": ""
           }
          },
          "scene": {
           "xaxis": {
            "backgroundcolor": "#E5ECF6",
            "gridcolor": "white",
            "gridwidth": 2,
            "linecolor": "white",
            "showbackground": true,
            "ticks": "",
            "zerolinecolor": "white"
           },
           "yaxis": {
            "backgroundcolor": "#E5ECF6",
            "gridcolor": "white",
            "gridwidth": 2,
            "linecolor": "white",
            "showbackground": true,
            "ticks": "",
            "zerolinecolor": "white"
           },
           "zaxis": {
            "backgroundcolor": "#E5ECF6",
            "gridcolor": "white",
            "gridwidth": 2,
            "linecolor": "white",
            "showbackground": true,
            "ticks": "",
            "zerolinecolor": "white"
           }
          },
          "shapedefaults": {
           "line": {
            "color": "#2a3f5f"
           }
          },
          "ternary": {
           "aaxis": {
            "gridcolor": "white",
            "linecolor": "white",
            "ticks": ""
           },
           "baxis": {
            "gridcolor": "white",
            "linecolor": "white",
            "ticks": ""
           },
           "bgcolor": "#E5ECF6",
           "caxis": {
            "gridcolor": "white",
            "linecolor": "white",
            "ticks": ""
           }
          },
          "title": {
           "x": 0.05
          },
          "xaxis": {
           "automargin": true,
           "gridcolor": "white",
           "linecolor": "white",
           "ticks": "",
           "title": {
            "standoff": 15
           },
           "zerolinecolor": "white",
           "zerolinewidth": 2
          },
          "yaxis": {
           "automargin": true,
           "gridcolor": "white",
           "linecolor": "white",
           "ticks": "",
           "title": {
            "standoff": 15
           },
           "zerolinecolor": "white",
           "zerolinewidth": 2
          }
         }
        },
        "title": {
         "text": "Content added over the years"
        }
       }
      },
      "text/html": [
       "<div>\n",
       "        \n",
       "        \n",
       "            <div id=\"d4d671ae-9c0e-4f92-8af0-108a86135de9\" class=\"plotly-graph-div\" style=\"height:525px; width:100%;\"></div>\n",
       "            <script type=\"text/javascript\">\n",
       "                require([\"plotly\"], function(Plotly) {\n",
       "                    window.PLOTLYENV=window.PLOTLYENV || {};\n",
       "                    \n",
       "                if (document.getElementById(\"d4d671ae-9c0e-4f92-8af0-108a86135de9\")) {\n",
       "                    Plotly.newPlot(\n",
       "                        'd4d671ae-9c0e-4f92-8af0-108a86135de9',\n",
       "                        [{\"marker\": {\"color\": \"#a678de\"}, \"name\": \"TV Shows\", \"type\": \"scatter\", \"x\": [1925, 1946, 1963, 1967, 1968, 1972, 1974, 1977, 1979, 1981, 1985, 1986, 1988, 1989, 1990, 1991, 1992, 1993, 1994, 1995, 1996, 1997, 1998, 1999, 2000, 2001, 2002, 2003, 2004, 2005, 2006, 2007, 2008, 2009, 2010, 2011, 2012, 2013, 2014, 2015, 2016, 2017, 2018, 2019, 2020], \"y\": [0.05078720162519045, 0.05078720162519045, 0.05078720162519045, 0.05078720162519045, 0.05078720162519045, 0.05078720162519045, 0.05078720162519045, 0.05078720162519045, 0.05078720162519045, 0.05078720162519045, 0.05078720162519045, 0.1015744032503809, 0.1015744032503809, 0.05078720162519045, 0.15236160487557135, 0.05078720162519045, 0.1015744032503809, 0.15236160487557135, 0.05078720162519045, 0.1015744032503809, 0.15236160487557135, 0.2031488065007618, 0.15236160487557135, 0.2031488065007618, 0.15236160487557135, 0.2031488065007618, 0.15236160487557135, 0.4062976130015236, 0.4570848146267141, 0.6094464195022854, 0.4570848146267141, 0.5586592178770949, 1.015744032503809, 1.7267648552564754, 1.9299136617572372, 1.8283392585068563, 2.945657694261046, 3.047232097511427, 3.809040121889284, 7.82122905027933, 12.036566785170137, 14.068054850177756, 21.17826307770442, 22.49873031995937, 0.9649568308786186]}, {\"marker\": {\"color\": \"#6ad49b\"}, \"name\": \"Movies\", \"type\": \"scatter\", \"x\": [1942, 1943, 1944, 1945, 1946, 1947, 1954, 1955, 1956, 1958, 1959, 1960, 1962, 1964, 1965, 1966, 1967, 1968, 1969, 1970, 1971, 1972, 1973, 1974, 1975, 1976, 1977, 1978, 1979, 1980, 1981, 1982, 1983, 1984, 1985, 1986, 1987, 1988, 1989, 1990, 1991, 1992, 1993, 1994, 1995, 1996, 1997, 1998, 1999, 2000, 2001, 2002, 2003, 2004, 2005, 2006, 2007, 2008, 2009, 2010, 2011, 2012, 2013, 2014, 2015, 2016, 2017, 2018, 2019, 2020], \"y\": [0.04689331770222743, 0.07033997655334115, 0.07033997655334115, 0.07033997655334115, 0.04689331770222743, 0.023446658851113716, 0.023446658851113716, 0.023446658851113716, 0.023446658851113716, 0.04689331770222743, 0.023446658851113716, 0.09378663540445487, 0.07033997655334115, 0.023446658851113716, 0.04689331770222743, 0.023446658851113716, 0.04689331770222743, 0.07033997655334115, 0.04689331770222743, 0.023446658851113716, 0.07033997655334115, 0.07033997655334115, 0.21101992966002345, 0.16412661195779601, 0.11723329425556858, 0.16412661195779601, 0.09378663540445487, 0.16412661195779601, 0.1406799531066823, 0.16412661195779601, 0.1406799531066823, 0.25791324736225085, 0.21101992966002345, 0.18757327080890973, 0.16412661195779601, 0.18757327080890973, 0.11723329425556858, 0.25791324736225085, 0.23446658851113716, 0.2813599062133646, 0.32825322391559203, 0.32825322391559203, 0.37514654161781946, 0.3048065650644783, 0.3516998827667057, 0.32825322391559203, 0.6330597889800703, 0.5392731535756154, 0.39859320046893315, 0.6565064478311841, 0.7033997655334114, 0.82063305978898, 0.82063305978898, 0.9378663540445487, 1.1957796014067996, 1.3833528722157094, 1.4067995310668229, 2.0398593200468933, 2.0398593200468933, 2.6025791324736227, 2.3446658851113718, 2.9308323563892147, 4.150058616647128, 4.9941383352872215, 8.51113716295428, 13.903868698710435, 15.990621336459554, 15.14654161781946, 9.378663540445487, 0.1406799531066823]}],\n",
       "                        {\"legend\": {\"orientation\": \"h\", \"x\": 0.1, \"y\": 1.1}, \"template\": {\"data\": {\"bar\": [{\"error_x\": {\"color\": \"#2a3f5f\"}, \"error_y\": {\"color\": \"#2a3f5f\"}, \"marker\": {\"line\": {\"color\": \"#E5ECF6\", \"width\": 0.5}}, \"type\": \"bar\"}], \"barpolar\": [{\"marker\": {\"line\": {\"color\": \"#E5ECF6\", \"width\": 0.5}}, \"type\": \"barpolar\"}], \"carpet\": [{\"aaxis\": {\"endlinecolor\": \"#2a3f5f\", \"gridcolor\": \"white\", \"linecolor\": \"white\", \"minorgridcolor\": \"white\", \"startlinecolor\": \"#2a3f5f\"}, \"baxis\": {\"endlinecolor\": \"#2a3f5f\", \"gridcolor\": \"white\", \"linecolor\": \"white\", \"minorgridcolor\": \"white\", \"startlinecolor\": \"#2a3f5f\"}, \"type\": \"carpet\"}], \"choropleth\": [{\"colorbar\": {\"outlinewidth\": 0, \"ticks\": \"\"}, \"type\": \"choropleth\"}], \"contour\": [{\"colorbar\": {\"outlinewidth\": 0, \"ticks\": \"\"}, \"colorscale\": [[0.0, \"#0d0887\"], [0.1111111111111111, \"#46039f\"], [0.2222222222222222, \"#7201a8\"], [0.3333333333333333, \"#9c179e\"], [0.4444444444444444, \"#bd3786\"], [0.5555555555555556, \"#d8576b\"], [0.6666666666666666, \"#ed7953\"], [0.7777777777777778, \"#fb9f3a\"], [0.8888888888888888, \"#fdca26\"], [1.0, \"#f0f921\"]], \"type\": \"contour\"}], \"contourcarpet\": [{\"colorbar\": {\"outlinewidth\": 0, \"ticks\": \"\"}, \"type\": \"contourcarpet\"}], \"heatmap\": [{\"colorbar\": {\"outlinewidth\": 0, \"ticks\": \"\"}, \"colorscale\": [[0.0, \"#0d0887\"], [0.1111111111111111, \"#46039f\"], [0.2222222222222222, \"#7201a8\"], [0.3333333333333333, \"#9c179e\"], [0.4444444444444444, \"#bd3786\"], [0.5555555555555556, \"#d8576b\"], [0.6666666666666666, \"#ed7953\"], [0.7777777777777778, \"#fb9f3a\"], [0.8888888888888888, \"#fdca26\"], [1.0, \"#f0f921\"]], \"type\": \"heatmap\"}], \"heatmapgl\": [{\"colorbar\": {\"outlinewidth\": 0, \"ticks\": \"\"}, \"colorscale\": [[0.0, \"#0d0887\"], [0.1111111111111111, \"#46039f\"], [0.2222222222222222, \"#7201a8\"], [0.3333333333333333, \"#9c179e\"], [0.4444444444444444, \"#bd3786\"], [0.5555555555555556, \"#d8576b\"], [0.6666666666666666, \"#ed7953\"], [0.7777777777777778, \"#fb9f3a\"], [0.8888888888888888, \"#fdca26\"], [1.0, \"#f0f921\"]], \"type\": \"heatmapgl\"}], \"histogram\": [{\"marker\": {\"colorbar\": {\"outlinewidth\": 0, \"ticks\": \"\"}}, \"type\": \"histogram\"}], \"histogram2d\": [{\"colorbar\": {\"outlinewidth\": 0, \"ticks\": \"\"}, \"colorscale\": [[0.0, \"#0d0887\"], [0.1111111111111111, \"#46039f\"], [0.2222222222222222, \"#7201a8\"], [0.3333333333333333, \"#9c179e\"], [0.4444444444444444, \"#bd3786\"], [0.5555555555555556, \"#d8576b\"], [0.6666666666666666, \"#ed7953\"], [0.7777777777777778, \"#fb9f3a\"], [0.8888888888888888, \"#fdca26\"], [1.0, \"#f0f921\"]], \"type\": \"histogram2d\"}], \"histogram2dcontour\": [{\"colorbar\": {\"outlinewidth\": 0, \"ticks\": \"\"}, \"colorscale\": [[0.0, \"#0d0887\"], [0.1111111111111111, \"#46039f\"], [0.2222222222222222, \"#7201a8\"], [0.3333333333333333, \"#9c179e\"], [0.4444444444444444, \"#bd3786\"], [0.5555555555555556, \"#d8576b\"], [0.6666666666666666, \"#ed7953\"], [0.7777777777777778, \"#fb9f3a\"], [0.8888888888888888, \"#fdca26\"], [1.0, \"#f0f921\"]], \"type\": \"histogram2dcontour\"}], \"mesh3d\": [{\"colorbar\": {\"outlinewidth\": 0, \"ticks\": \"\"}, \"type\": \"mesh3d\"}], \"parcoords\": [{\"line\": {\"colorbar\": {\"outlinewidth\": 0, \"ticks\": \"\"}}, \"type\": \"parcoords\"}], \"pie\": [{\"automargin\": true, \"type\": \"pie\"}], \"scatter\": [{\"marker\": {\"colorbar\": {\"outlinewidth\": 0, \"ticks\": \"\"}}, \"type\": \"scatter\"}], \"scatter3d\": [{\"line\": {\"colorbar\": {\"outlinewidth\": 0, \"ticks\": \"\"}}, \"marker\": {\"colorbar\": {\"outlinewidth\": 0, \"ticks\": \"\"}}, \"type\": \"scatter3d\"}], \"scattercarpet\": [{\"marker\": {\"colorbar\": {\"outlinewidth\": 0, \"ticks\": \"\"}}, \"type\": \"scattercarpet\"}], \"scattergeo\": [{\"marker\": {\"colorbar\": {\"outlinewidth\": 0, \"ticks\": \"\"}}, \"type\": \"scattergeo\"}], \"scattergl\": [{\"marker\": {\"colorbar\": {\"outlinewidth\": 0, \"ticks\": \"\"}}, \"type\": \"scattergl\"}], \"scattermapbox\": [{\"marker\": {\"colorbar\": {\"outlinewidth\": 0, \"ticks\": \"\"}}, \"type\": \"scattermapbox\"}], \"scatterpolar\": [{\"marker\": {\"colorbar\": {\"outlinewidth\": 0, \"ticks\": \"\"}}, \"type\": \"scatterpolar\"}], \"scatterpolargl\": [{\"marker\": {\"colorbar\": {\"outlinewidth\": 0, \"ticks\": \"\"}}, \"type\": \"scatterpolargl\"}], \"scatterternary\": [{\"marker\": {\"colorbar\": {\"outlinewidth\": 0, \"ticks\": \"\"}}, \"type\": \"scatterternary\"}], \"surface\": [{\"colorbar\": {\"outlinewidth\": 0, \"ticks\": \"\"}, \"colorscale\": [[0.0, \"#0d0887\"], [0.1111111111111111, \"#46039f\"], [0.2222222222222222, \"#7201a8\"], [0.3333333333333333, \"#9c179e\"], [0.4444444444444444, \"#bd3786\"], [0.5555555555555556, \"#d8576b\"], [0.6666666666666666, \"#ed7953\"], [0.7777777777777778, \"#fb9f3a\"], [0.8888888888888888, \"#fdca26\"], [1.0, \"#f0f921\"]], \"type\": \"surface\"}], \"table\": [{\"cells\": {\"fill\": {\"color\": \"#EBF0F8\"}, \"line\": {\"color\": \"white\"}}, \"header\": {\"fill\": {\"color\": \"#C8D4E3\"}, \"line\": {\"color\": \"white\"}}, \"type\": \"table\"}]}, \"layout\": {\"annotationdefaults\": {\"arrowcolor\": \"#2a3f5f\", \"arrowhead\": 0, \"arrowwidth\": 1}, \"coloraxis\": {\"colorbar\": {\"outlinewidth\": 0, \"ticks\": \"\"}}, \"colorscale\": {\"diverging\": [[0, \"#8e0152\"], [0.1, \"#c51b7d\"], [0.2, \"#de77ae\"], [0.3, \"#f1b6da\"], [0.4, \"#fde0ef\"], [0.5, \"#f7f7f7\"], [0.6, \"#e6f5d0\"], [0.7, \"#b8e186\"], [0.8, \"#7fbc41\"], [0.9, \"#4d9221\"], [1, \"#276419\"]], \"sequential\": [[0.0, \"#0d0887\"], [0.1111111111111111, \"#46039f\"], [0.2222222222222222, \"#7201a8\"], [0.3333333333333333, \"#9c179e\"], [0.4444444444444444, \"#bd3786\"], [0.5555555555555556, \"#d8576b\"], [0.6666666666666666, \"#ed7953\"], [0.7777777777777778, \"#fb9f3a\"], [0.8888888888888888, \"#fdca26\"], [1.0, \"#f0f921\"]], \"sequentialminus\": [[0.0, \"#0d0887\"], [0.1111111111111111, \"#46039f\"], [0.2222222222222222, \"#7201a8\"], [0.3333333333333333, \"#9c179e\"], [0.4444444444444444, \"#bd3786\"], [0.5555555555555556, \"#d8576b\"], [0.6666666666666666, \"#ed7953\"], [0.7777777777777778, \"#fb9f3a\"], [0.8888888888888888, \"#fdca26\"], [1.0, \"#f0f921\"]]}, \"colorway\": [\"#636efa\", \"#EF553B\", \"#00cc96\", \"#ab63fa\", \"#FFA15A\", \"#19d3f3\", \"#FF6692\", \"#B6E880\", \"#FF97FF\", \"#FECB52\"], \"font\": {\"color\": \"#2a3f5f\"}, \"geo\": {\"bgcolor\": \"white\", \"lakecolor\": \"white\", \"landcolor\": \"#E5ECF6\", \"showlakes\": true, \"showland\": true, \"subunitcolor\": \"white\"}, \"hoverlabel\": {\"align\": \"left\"}, \"hovermode\": \"closest\", \"mapbox\": {\"style\": \"light\"}, \"paper_bgcolor\": \"white\", \"plot_bgcolor\": \"#E5ECF6\", \"polar\": {\"angularaxis\": {\"gridcolor\": \"white\", \"linecolor\": \"white\", \"ticks\": \"\"}, \"bgcolor\": \"#E5ECF6\", \"radialaxis\": {\"gridcolor\": \"white\", \"linecolor\": \"white\", \"ticks\": \"\"}}, \"scene\": {\"xaxis\": {\"backgroundcolor\": \"#E5ECF6\", \"gridcolor\": \"white\", \"gridwidth\": 2, \"linecolor\": \"white\", \"showbackground\": true, \"ticks\": \"\", \"zerolinecolor\": \"white\"}, \"yaxis\": {\"backgroundcolor\": \"#E5ECF6\", \"gridcolor\": \"white\", \"gridwidth\": 2, \"linecolor\": \"white\", \"showbackground\": true, \"ticks\": \"\", \"zerolinecolor\": \"white\"}, \"zaxis\": {\"backgroundcolor\": \"#E5ECF6\", \"gridcolor\": \"white\", \"gridwidth\": 2, \"linecolor\": \"white\", \"showbackground\": true, \"ticks\": \"\", \"zerolinecolor\": \"white\"}}, \"shapedefaults\": {\"line\": {\"color\": \"#2a3f5f\"}}, \"ternary\": {\"aaxis\": {\"gridcolor\": \"white\", \"linecolor\": \"white\", \"ticks\": \"\"}, \"baxis\": {\"gridcolor\": \"white\", \"linecolor\": \"white\", \"ticks\": \"\"}, \"bgcolor\": \"#E5ECF6\", \"caxis\": {\"gridcolor\": \"white\", \"linecolor\": \"white\", \"ticks\": \"\"}}, \"title\": {\"x\": 0.05}, \"xaxis\": {\"automargin\": true, \"gridcolor\": \"white\", \"linecolor\": \"white\", \"ticks\": \"\", \"title\": {\"standoff\": 15}, \"zerolinecolor\": \"white\", \"zerolinewidth\": 2}, \"yaxis\": {\"automargin\": true, \"gridcolor\": \"white\", \"linecolor\": \"white\", \"ticks\": \"\", \"title\": {\"standoff\": 15}, \"zerolinecolor\": \"white\", \"zerolinewidth\": 2}}}, \"title\": {\"text\": \"Content added over the years\"}},\n",
       "                        {\"responsive\": true}\n",
       "                    ).then(function(){\n",
       "                            \n",
       "var gd = document.getElementById('d4d671ae-9c0e-4f92-8af0-108a86135de9');\n",
       "var x = new MutationObserver(function (mutations, observer) {{\n",
       "        var display = window.getComputedStyle(gd).display;\n",
       "        if (!display || display === 'none') {{\n",
       "            console.log([gd, 'removed!']);\n",
       "            Plotly.purge(gd);\n",
       "            observer.disconnect();\n",
       "        }}\n",
       "}});\n",
       "\n",
       "// Listen for the removal of the full notebook cells\n",
       "var notebookContainer = gd.closest('#notebook-container');\n",
       "if (notebookContainer) {{\n",
       "    x.observe(notebookContainer, {childList: true});\n",
       "}}\n",
       "\n",
       "// Listen for the clearing of the current output cell\n",
       "var outputEl = gd.closest('.output');\n",
       "if (outputEl) {{\n",
       "    x.observe(outputEl, {childList: true});\n",
       "}}\n",
       "\n",
       "                        })\n",
       "                };\n",
       "                });\n",
       "            </script>\n",
       "        </div>"
      ]
     },
     "metadata": {},
     "output_type": "display_data"
    }
   ],
   "source": [
    "import plotly.graph_objects as go\n",
    "from plotly.offline import init_notebook_mode, iplot\n",
    "d1 = df[df[\"type\"] == \"TV Show\"]\n",
    "d2 = df[df[\"type\"] == \"Movie\"]\n",
    "\n",
    "col = \"release_year\"\n",
    "\n",
    "vc1 = d1[col].value_counts().reset_index()\n",
    "\n",
    "vc1 = vc1.rename(columns = {col : \"count\", \"index\" : col})\n",
    "#renaming release_year column to count\n",
    "#renaming index column to release_year\n",
    "vc1['percent'] = vc1['count'].apply(lambda x : 100*x/sum(vc1['count']))\n",
    "vc1 = vc1.sort_values(col)\n",
    "\n",
    "vc2 = d2[col].value_counts().reset_index()\n",
    "vc2 = vc2.rename(columns = {col : \"count\", \"index\" : col})\n",
    "vc2['percent'] = vc2['count'].apply(lambda x : 100*x/sum(vc2['count']))\n",
    "vc2 = vc2.sort_values(col)\n",
    "\n",
    "trace1 = go.Scatter(x=vc1[col], y=vc1[\"percent\"], name=\"TV Shows\", marker=dict(color=\"#a678de\"))\n",
    "trace2 = go.Scatter(x=vc2[col], y=vc2[\"percent\"], name=\"Movies\", marker=dict(color=\"#6ad49b\"))\n",
    "data = [trace1, trace2]\n",
    "layout = go.Layout(title=\"Content added over the years\", legend=dict(x=0.1, y=1.1, orientation=\"h\"))\n",
    "fig = go.Figure(data, layout=layout)\n",
    "fig.show()"
   ]
  },
  {
   "cell_type": "code",
   "execution_count": null,
   "metadata": {},
   "outputs": [],
   "source": []
  }
 ],
 "metadata": {
  "kernelspec": {
   "display_name": "Python 3",
   "language": "python",
   "name": "python3"
  },
  "language_info": {
   "codemirror_mode": {
    "name": "ipython",
    "version": 3
   },
   "file_extension": ".py",
   "mimetype": "text/x-python",
   "name": "python",
   "nbconvert_exporter": "python",
   "pygments_lexer": "ipython3",
   "version": "3.7.4"
  }
 },
 "nbformat": 4,
 "nbformat_minor": 2
}
